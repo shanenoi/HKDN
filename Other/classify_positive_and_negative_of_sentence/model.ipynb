{
  "nbformat": 4,
  "nbformat_minor": 0,
  "metadata": {
    "colab": {
      "name": "Untitled",
      "provenance": [],
      "collapsed_sections": []
    },
    "kernelspec": {
      "name": "python3",
      "display_name": "Python 3"
    }
  },
  "cells": [
    {
      "cell_type": "code",
      "metadata": {
        "id": "UMrxtBsJ5LZ4",
        "colab_type": "code",
        "colab": {}
      },
      "source": [
        "import numpy as np\n",
        "import pandas as pd"
      ],
      "execution_count": 0,
      "outputs": []
    },
    {
      "cell_type": "code",
      "metadata": {
        "id": "bU_INtBg5fb4",
        "colab_type": "code",
        "colab": {}
      },
      "source": [
        "dataset = pd.read_csv(\"do\", delimiter=\"\\t\")"
      ],
      "execution_count": 0,
      "outputs": []
    },
    {
      "cell_type": "code",
      "metadata": {
        "id": "i0YM2MVW0Hvt",
        "colab_type": "code",
        "outputId": "77aa7855-f4a2-4a89-dfda-7de36b8f8b3c",
        "colab": {
          "base_uri": "https://localhost:8080/",
          "height": 204
        }
      },
      "source": [
        "dataset"
      ],
      "execution_count": 0,
      "outputs": [
        {
          "output_type": "execute_result",
          "data": {
            "text/html": [
              "<div>\n",
              "<style scoped>\n",
              "    .dataframe tbody tr th:only-of-type {\n",
              "        vertical-align: middle;\n",
              "    }\n",
              "\n",
              "    .dataframe tbody tr th {\n",
              "        vertical-align: top;\n",
              "    }\n",
              "\n",
              "    .dataframe thead th {\n",
              "        text-align: right;\n",
              "    }\n",
              "</style>\n",
              "<table border=\"1\" class=\"dataframe\">\n",
              "  <thead>\n",
              "    <tr style=\"text-align: right;\">\n",
              "      <th></th>\n",
              "      <th>content</th>\n",
              "      <th>type</th>\n",
              "    </tr>\n",
              "  </thead>\n",
              "  <tbody>\n",
              "    <tr>\n",
              "      <th>0</th>\n",
              "      <td>Mình cũng làm ở đây 5 năm và đánh giá như sau:...</td>\n",
              "      <td>2</td>\n",
              "    </tr>\n",
              "    <tr>\n",
              "      <th>1</th>\n",
              "      <td>T đã đọc hết các review, đa phần là chế nhạo b...</td>\n",
              "      <td>1</td>\n",
              "    </tr>\n",
              "    <tr>\n",
              "      <th>2</th>\n",
              "      <td>Mình nhận xét về IT-DPS - Lương tầm 6-8 tr, tr...</td>\n",
              "      <td>1</td>\n",
              "    </tr>\n",
              "    <tr>\n",
              "      <th>3</th>\n",
              "      <td>Các bạn fresher (developer) mới ra trường, đan...</td>\n",
              "      <td>0</td>\n",
              "    </tr>\n",
              "    <tr>\n",
              "      <th>4</th>\n",
              "      <td>Mình là cao cao(anh của cao nhất), mình có 1 v...</td>\n",
              "      <td>0</td>\n",
              "    </tr>\n",
              "  </tbody>\n",
              "</table>\n",
              "</div>"
            ],
            "text/plain": [
              "                                             content  type\n",
              "0  Mình cũng làm ở đây 5 năm và đánh giá như sau:...     2\n",
              "1  T đã đọc hết các review, đa phần là chế nhạo b...     1\n",
              "2  Mình nhận xét về IT-DPS - Lương tầm 6-8 tr, tr...     1\n",
              "3  Các bạn fresher (developer) mới ra trường, đan...     0\n",
              "4  Mình là cao cao(anh của cao nhất), mình có 1 v...     0"
            ]
          },
          "metadata": {
            "tags": []
          },
          "execution_count": 3
        }
      ]
    },
    {
      "cell_type": "code",
      "metadata": {
        "id": "AXU-hxDB0I_W",
        "colab_type": "code",
        "outputId": "65c7644f-f391-4739-ffd2-c135b0cf50b6",
        "colab": {
          "base_uri": "https://localhost:8080/",
          "height": 221
        }
      },
      "source": [
        "!wget -N https://raw.githubusercontent.com/stopwords/vietnamese-stopwords/master/vietnamese-stopwords.txt"
      ],
      "execution_count": 0,
      "outputs": [
        {
          "output_type": "stream",
          "text": [
            "--2020-05-05 09:47:16--  https://raw.githubusercontent.com/stopwords/vietnamese-stopwords/master/vietnamese-stopwords.txt\n",
            "Resolving raw.githubusercontent.com (raw.githubusercontent.com)... 151.101.0.133, 151.101.64.133, 151.101.128.133, ...\n",
            "Connecting to raw.githubusercontent.com (raw.githubusercontent.com)|151.101.0.133|:443... connected.\n",
            "HTTP request sent, awaiting response... 200 OK\n",
            "Length: 20475 (20K) [text/plain]\n",
            "Saving to: ‘vietnamese-stopwords.txt’\n",
            "\n",
            "\rvietnamese-stopword   0%[                    ]       0  --.-KB/s               \rvietnamese-stopword 100%[===================>]  20.00K  --.-KB/s    in 0.007s  \n",
            "\n",
            "Last-modified header missing -- time-stamps turned off.\n",
            "2020-05-05 09:47:16 (2.71 MB/s) - ‘vietnamese-stopwords.txt’ saved [20475/20475]\n",
            "\n"
          ],
          "name": "stdout"
        }
      ]
    },
    {
      "cell_type": "code",
      "metadata": {
        "id": "BGcJahyB1J7U",
        "colab_type": "code",
        "colab": {}
      },
      "source": [
        "import re\n",
        "\n",
        "def process_vn_text(dataset):\n",
        "    for i in range(len(dataset)):\n",
        "        review = re.sub(\n",
        "            \"[^a-z0-9A-Z_ÀÁÂÃÈÉÊÌÍÒÓÔÕÙÚĂĐĨŨƠàáâãèéêìíòóôõùúăđĩũơƯĂẠẢẤẦẨẪẬẮẰẲẴẶẸẺẼỀỀỂưăạảấầẩẫậắằẳẵặẹẻẽềềểỄỆỈỊỌỎỐỒỔỖỘỚỜỞỠỢỤỦỨỪễệỉịọỏốồổỗộớờởỡợụủứừỬỮỰỲỴÝỶỸửữựỳỵỷỹ]\",\n",
        "            ' ', dataset[i]\n",
        "        )\n",
        "        review = review.lower()\n",
        "        review = review.split()\n",
        "        review = [\n",
        "                  word \n",
        "                  for word in review \n",
        "                  if not word in set(\n",
        "                      open(\"vietnamese-stopwords.txt\", \"r\")\\\n",
        "                        .read()\\\n",
        "                        .split(\"\\n\")\n",
        "                  )\n",
        "        ]\n",
        "        yield \" \".join(review)"
      ],
      "execution_count": 0,
      "outputs": []
    },
    {
      "cell_type": "code",
      "metadata": {
        "id": "xd75kI4V2eYr",
        "colab_type": "code",
        "colab": {}
      },
      "source": [
        "corpus = list(process_vn_text(dataset['content']))"
      ],
      "execution_count": 0,
      "outputs": []
    },
    {
      "cell_type": "code",
      "metadata": {
        "id": "MwuGi-d93QUN",
        "colab_type": "code",
        "colab": {}
      },
      "source": [
        "from sklearn.feature_extraction.text import CountVectorizer\n",
        "cv = CountVectorizer(max_features = 1500)\n",
        "cv.fit(corpus)\n",
        "X = cv.transform(corpus).toarray()\n",
        "y = dataset.iloc[:, 1].values"
      ],
      "execution_count": 0,
      "outputs": []
    },
    {
      "cell_type": "code",
      "metadata": {
        "id": "9nNRrt2NCwjZ",
        "colab_type": "code",
        "colab": {}
      },
      "source": [
        "import tensorflow as tf\n",
        "y = tf.one_hot(y,3)"
      ],
      "execution_count": 0,
      "outputs": []
    },
    {
      "cell_type": "code",
      "metadata": {
        "id": "HO7mpHPnEqrw",
        "colab_type": "code",
        "colab": {}
      },
      "source": [
        "inputs = tf.keras.Input(shape=(X.shape[-1],))\n",
        "hidden = tf.keras.layers.Dense(9, activation=tf.nn.relu)(inputs)\n",
        "outputs = tf.keras.layers.Dense(y.shape[-1], activation=tf.nn.softmax)(hidden)\n",
        "model = tf.keras.Model(inputs=inputs, outputs=outputs)"
      ],
      "execution_count": 0,
      "outputs": []
    },
    {
      "cell_type": "code",
      "metadata": {
        "id": "YqIY33VoI5Yf",
        "colab_type": "code",
        "colab": {}
      },
      "source": [
        "model.compile(\n",
        "    optimizer=\"adam\",\n",
        "    loss=tf.keras.losses.binary_crossentropy,\n",
        "    metrics=['accuracy']\n",
        ")"
      ],
      "execution_count": 0,
      "outputs": []
    },
    {
      "cell_type": "code",
      "metadata": {
        "id": "oL_F_NQhMfGA",
        "colab_type": "code",
        "outputId": "922c41f5-03ff-493a-bf40-038077abb775",
        "colab": {
          "base_uri": "https://localhost:8080/",
          "height": 255
        }
      },
      "source": [
        "model.summary()"
      ],
      "execution_count": 0,
      "outputs": [
        {
          "output_type": "stream",
          "text": [
            "Model: \"model_1\"\n",
            "_________________________________________________________________\n",
            "Layer (type)                 Output Shape              Param #   \n",
            "=================================================================\n",
            "input_2 (InputLayer)         [(None, 260)]             0         \n",
            "_________________________________________________________________\n",
            "dense_2 (Dense)              (None, 9)                 2349      \n",
            "_________________________________________________________________\n",
            "dense_3 (Dense)              (None, 3)                 30        \n",
            "=================================================================\n",
            "Total params: 2,379\n",
            "Trainable params: 2,379\n",
            "Non-trainable params: 0\n",
            "_________________________________________________________________\n"
          ],
          "name": "stdout"
        }
      ]
    },
    {
      "cell_type": "code",
      "metadata": {
        "id": "CPuDAzcANBpR",
        "colab_type": "code",
        "colab": {}
      },
      "source": [
        ""
      ],
      "execution_count": 0,
      "outputs": []
    }
  ]
}